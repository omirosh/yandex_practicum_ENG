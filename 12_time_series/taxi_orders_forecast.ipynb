{
 "cells": [
  {
   "cell_type": "markdown",
   "metadata": {},
   "source": [
    "# Прогнозирование количества заказов такси<a class=\"tocSkip\">\n",
    "\n",
    "Требуется построить модель машинного обучения для прогнозирования количества заказов такси на следующий час на основе исторических данных.\n",
    "    \n",
    "Значение метрики RMSE на тестовой выборке должно быть <= 48.\n",
    "                                                           \n",
    "Использовались следующие модели:\n",
    "- Градиентный бустинг (CatBoost),\n",
    "- Линейная регрессия                                                           \n",
    "\n",
    "### План работы<a class=\"tocSkip\">\n",
    "1. [Подготовка](#Подготовка)\n",
    "2. [Анализ](#Анализ)\n",
    "3. [Обучение](#Обучение)\n",
    "4. [Тестирование](#Тестирование)    \n",
    "5. [Общий вывод](#Общий-вывод)\n",
    "\n",
    "### Описание данных<a class=\"tocSkip\">\n",
    "Дата-время и количество заказов такси."
   ]
  },
  {
   "cell_type": "markdown",
   "metadata": {},
   "source": [
    "# Подготовка"
   ]
  },
  {
   "cell_type": "code",
   "execution_count": 1,
   "metadata": {},
   "outputs": [],
   "source": [
    "#импортирование нужных библиотек:\n",
    "import pandas as pd\n",
    "import numpy as np\n",
    "\n",
    "\n",
    "from sklearn.model_selection import train_test_split\n",
    "from sklearn.model_selection import GridSearchCV\n",
    "from sklearn.metrics import mean_squared_error\n",
    "from sklearn.ensemble import RandomForestRegressor\n",
    "from sklearn.dummy import DummyRegressor\n",
    "from sklearn.metrics import mean_absolute_error\n",
    "from sklearn.model_selection import TimeSeriesSplit\n",
    "from sklearn.linear_model import LinearRegression\n",
    "\n",
    "from statsmodels.tsa.seasonal import seasonal_decompose\n",
    "from catboost import CatBoostRegressor\n",
    "\n",
    "import time\n",
    "from tqdm.notebook import tqdm\n",
    "\n",
    "#визуализация\n",
    "import matplotlib.pyplot as plt\n",
    "\n",
    "#игнорирование предупреждений\n",
    "import warnings\n",
    "warnings.filterwarnings(\"ignore\")"
   ]
  },
  {
   "cell_type": "code",
   "execution_count": 2,
   "metadata": {},
   "outputs": [],
   "source": [
    "try:\n",
    "    data = pd.read_csv('/datasets/taxi.csv', parse_dates = [0], index_col=0)\n",
    "except:\n",
    "    data = pd.read_csv('datasets/taxi.csv', parse_dates = [0], index_col=0)"
   ]
  },
  {
   "cell_type": "code",
   "execution_count": 3,
   "metadata": {},
   "outputs": [],
   "source": [
    "def examine_datetime_df(df):\n",
    "    display(df.head(10))\n",
    "    display(df.info())\n",
    "    display(df.describe())\n",
    "    total = df.isnull().sum().sort_values(ascending=False)\n",
    "    percent = ((df.isnull().sum()/df.isnull().count())*100).sort_values(ascending=False)\n",
    "    missing_data = pd.concat([total, percent], axis=1, keys=['Total', 'Percent'])\n",
    "    missing_data.style.format('{:.1f}', subset='Percent')\n",
    "    \n",
    "    print('Монотонный ли индекс ', data.index.is_monotonic)\n",
    "    print(f'Количество пропусков {missing_data}')    \n",
    "    print('_____________________________________________')"
   ]
  },
  {
   "cell_type": "markdown",
   "metadata": {},
   "source": [
    "Исследуем данные:"
   ]
  },
  {
   "cell_type": "code",
   "execution_count": 4,
   "metadata": {},
   "outputs": [
    {
     "data": {
      "text/html": [
       "<div>\n",
       "<style scoped>\n",
       "    .dataframe tbody tr th:only-of-type {\n",
       "        vertical-align: middle;\n",
       "    }\n",
       "\n",
       "    .dataframe tbody tr th {\n",
       "        vertical-align: top;\n",
       "    }\n",
       "\n",
       "    .dataframe thead th {\n",
       "        text-align: right;\n",
       "    }\n",
       "</style>\n",
       "<table border=\"1\" class=\"dataframe\">\n",
       "  <thead>\n",
       "    <tr style=\"text-align: right;\">\n",
       "      <th></th>\n",
       "      <th>num_orders</th>\n",
       "    </tr>\n",
       "    <tr>\n",
       "      <th>datetime</th>\n",
       "      <th></th>\n",
       "    </tr>\n",
       "  </thead>\n",
       "  <tbody>\n",
       "    <tr>\n",
       "      <td>2018-03-01 00:00:00</td>\n",
       "      <td>9</td>\n",
       "    </tr>\n",
       "    <tr>\n",
       "      <td>2018-03-01 00:10:00</td>\n",
       "      <td>14</td>\n",
       "    </tr>\n",
       "    <tr>\n",
       "      <td>2018-03-01 00:20:00</td>\n",
       "      <td>28</td>\n",
       "    </tr>\n",
       "    <tr>\n",
       "      <td>2018-03-01 00:30:00</td>\n",
       "      <td>20</td>\n",
       "    </tr>\n",
       "    <tr>\n",
       "      <td>2018-03-01 00:40:00</td>\n",
       "      <td>32</td>\n",
       "    </tr>\n",
       "    <tr>\n",
       "      <td>2018-03-01 00:50:00</td>\n",
       "      <td>21</td>\n",
       "    </tr>\n",
       "    <tr>\n",
       "      <td>2018-03-01 01:00:00</td>\n",
       "      <td>7</td>\n",
       "    </tr>\n",
       "    <tr>\n",
       "      <td>2018-03-01 01:10:00</td>\n",
       "      <td>5</td>\n",
       "    </tr>\n",
       "    <tr>\n",
       "      <td>2018-03-01 01:20:00</td>\n",
       "      <td>17</td>\n",
       "    </tr>\n",
       "    <tr>\n",
       "      <td>2018-03-01 01:30:00</td>\n",
       "      <td>12</td>\n",
       "    </tr>\n",
       "  </tbody>\n",
       "</table>\n",
       "</div>"
      ],
      "text/plain": [
       "                     num_orders\n",
       "datetime                       \n",
       "2018-03-01 00:00:00           9\n",
       "2018-03-01 00:10:00          14\n",
       "2018-03-01 00:20:00          28\n",
       "2018-03-01 00:30:00          20\n",
       "2018-03-01 00:40:00          32\n",
       "2018-03-01 00:50:00          21\n",
       "2018-03-01 01:00:00           7\n",
       "2018-03-01 01:10:00           5\n",
       "2018-03-01 01:20:00          17\n",
       "2018-03-01 01:30:00          12"
      ]
     },
     "metadata": {},
     "output_type": "display_data"
    },
    {
     "name": "stdout",
     "output_type": "stream",
     "text": [
      "<class 'pandas.core.frame.DataFrame'>\n",
      "DatetimeIndex: 26496 entries, 2018-03-01 00:00:00 to 2018-08-31 23:50:00\n",
      "Data columns (total 1 columns):\n",
      "num_orders    26496 non-null int64\n",
      "dtypes: int64(1)\n",
      "memory usage: 414.0 KB\n"
     ]
    },
    {
     "data": {
      "text/plain": [
       "None"
      ]
     },
     "metadata": {},
     "output_type": "display_data"
    },
    {
     "data": {
      "text/html": [
       "<div>\n",
       "<style scoped>\n",
       "    .dataframe tbody tr th:only-of-type {\n",
       "        vertical-align: middle;\n",
       "    }\n",
       "\n",
       "    .dataframe tbody tr th {\n",
       "        vertical-align: top;\n",
       "    }\n",
       "\n",
       "    .dataframe thead th {\n",
       "        text-align: right;\n",
       "    }\n",
       "</style>\n",
       "<table border=\"1\" class=\"dataframe\">\n",
       "  <thead>\n",
       "    <tr style=\"text-align: right;\">\n",
       "      <th></th>\n",
       "      <th>num_orders</th>\n",
       "    </tr>\n",
       "  </thead>\n",
       "  <tbody>\n",
       "    <tr>\n",
       "      <td>count</td>\n",
       "      <td>26496.000000</td>\n",
       "    </tr>\n",
       "    <tr>\n",
       "      <td>mean</td>\n",
       "      <td>14.070463</td>\n",
       "    </tr>\n",
       "    <tr>\n",
       "      <td>std</td>\n",
       "      <td>9.211330</td>\n",
       "    </tr>\n",
       "    <tr>\n",
       "      <td>min</td>\n",
       "      <td>0.000000</td>\n",
       "    </tr>\n",
       "    <tr>\n",
       "      <td>25%</td>\n",
       "      <td>8.000000</td>\n",
       "    </tr>\n",
       "    <tr>\n",
       "      <td>50%</td>\n",
       "      <td>13.000000</td>\n",
       "    </tr>\n",
       "    <tr>\n",
       "      <td>75%</td>\n",
       "      <td>19.000000</td>\n",
       "    </tr>\n",
       "    <tr>\n",
       "      <td>max</td>\n",
       "      <td>119.000000</td>\n",
       "    </tr>\n",
       "  </tbody>\n",
       "</table>\n",
       "</div>"
      ],
      "text/plain": [
       "         num_orders\n",
       "count  26496.000000\n",
       "mean      14.070463\n",
       "std        9.211330\n",
       "min        0.000000\n",
       "25%        8.000000\n",
       "50%       13.000000\n",
       "75%       19.000000\n",
       "max      119.000000"
      ]
     },
     "metadata": {},
     "output_type": "display_data"
    },
    {
     "name": "stdout",
     "output_type": "stream",
     "text": [
      "Монотонный ли индекс  True\n",
      "Количество пропусков             Total  Percent\n",
      "num_orders      0      0.0\n",
      "_____________________________________________\n"
     ]
    }
   ],
   "source": [
    "examine_datetime_df(data)"
   ]
  },
  {
   "cell_type": "markdown",
   "metadata": {},
   "source": [
    "Данные без пропусков, индекс монотоннен, все хорошо. Проведем ресемплинг по 1 часу:"
   ]
  },
  {
   "cell_type": "code",
   "execution_count": 5,
   "metadata": {},
   "outputs": [],
   "source": [
    "data = data.resample('1H').sum()"
   ]
  },
  {
   "cell_type": "code",
   "execution_count": 6,
   "metadata": {},
   "outputs": [
    {
     "data": {
      "text/html": [
       "<div>\n",
       "<style scoped>\n",
       "    .dataframe tbody tr th:only-of-type {\n",
       "        vertical-align: middle;\n",
       "    }\n",
       "\n",
       "    .dataframe tbody tr th {\n",
       "        vertical-align: top;\n",
       "    }\n",
       "\n",
       "    .dataframe thead th {\n",
       "        text-align: right;\n",
       "    }\n",
       "</style>\n",
       "<table border=\"1\" class=\"dataframe\">\n",
       "  <thead>\n",
       "    <tr style=\"text-align: right;\">\n",
       "      <th></th>\n",
       "      <th>num_orders</th>\n",
       "    </tr>\n",
       "    <tr>\n",
       "      <th>datetime</th>\n",
       "      <th></th>\n",
       "    </tr>\n",
       "  </thead>\n",
       "  <tbody>\n",
       "    <tr>\n",
       "      <td>2018-03-01 00:00:00</td>\n",
       "      <td>124</td>\n",
       "    </tr>\n",
       "    <tr>\n",
       "      <td>2018-03-01 01:00:00</td>\n",
       "      <td>85</td>\n",
       "    </tr>\n",
       "    <tr>\n",
       "      <td>2018-03-01 02:00:00</td>\n",
       "      <td>71</td>\n",
       "    </tr>\n",
       "    <tr>\n",
       "      <td>2018-03-01 03:00:00</td>\n",
       "      <td>66</td>\n",
       "    </tr>\n",
       "    <tr>\n",
       "      <td>2018-03-01 04:00:00</td>\n",
       "      <td>43</td>\n",
       "    </tr>\n",
       "    <tr>\n",
       "      <td>2018-03-01 05:00:00</td>\n",
       "      <td>6</td>\n",
       "    </tr>\n",
       "    <tr>\n",
       "      <td>2018-03-01 06:00:00</td>\n",
       "      <td>12</td>\n",
       "    </tr>\n",
       "    <tr>\n",
       "      <td>2018-03-01 07:00:00</td>\n",
       "      <td>15</td>\n",
       "    </tr>\n",
       "    <tr>\n",
       "      <td>2018-03-01 08:00:00</td>\n",
       "      <td>34</td>\n",
       "    </tr>\n",
       "    <tr>\n",
       "      <td>2018-03-01 09:00:00</td>\n",
       "      <td>69</td>\n",
       "    </tr>\n",
       "  </tbody>\n",
       "</table>\n",
       "</div>"
      ],
      "text/plain": [
       "                     num_orders\n",
       "datetime                       \n",
       "2018-03-01 00:00:00         124\n",
       "2018-03-01 01:00:00          85\n",
       "2018-03-01 02:00:00          71\n",
       "2018-03-01 03:00:00          66\n",
       "2018-03-01 04:00:00          43\n",
       "2018-03-01 05:00:00           6\n",
       "2018-03-01 06:00:00          12\n",
       "2018-03-01 07:00:00          15\n",
       "2018-03-01 08:00:00          34\n",
       "2018-03-01 09:00:00          69"
      ]
     },
     "metadata": {},
     "output_type": "display_data"
    },
    {
     "name": "stdout",
     "output_type": "stream",
     "text": [
      "<class 'pandas.core.frame.DataFrame'>\n",
      "DatetimeIndex: 4416 entries, 2018-03-01 00:00:00 to 2018-08-31 23:00:00\n",
      "Freq: H\n",
      "Data columns (total 1 columns):\n",
      "num_orders    4416 non-null int64\n",
      "dtypes: int64(1)\n",
      "memory usage: 69.0 KB\n"
     ]
    },
    {
     "data": {
      "text/plain": [
       "None"
      ]
     },
     "metadata": {},
     "output_type": "display_data"
    },
    {
     "data": {
      "text/html": [
       "<div>\n",
       "<style scoped>\n",
       "    .dataframe tbody tr th:only-of-type {\n",
       "        vertical-align: middle;\n",
       "    }\n",
       "\n",
       "    .dataframe tbody tr th {\n",
       "        vertical-align: top;\n",
       "    }\n",
       "\n",
       "    .dataframe thead th {\n",
       "        text-align: right;\n",
       "    }\n",
       "</style>\n",
       "<table border=\"1\" class=\"dataframe\">\n",
       "  <thead>\n",
       "    <tr style=\"text-align: right;\">\n",
       "      <th></th>\n",
       "      <th>num_orders</th>\n",
       "    </tr>\n",
       "  </thead>\n",
       "  <tbody>\n",
       "    <tr>\n",
       "      <td>count</td>\n",
       "      <td>4416.000000</td>\n",
       "    </tr>\n",
       "    <tr>\n",
       "      <td>mean</td>\n",
       "      <td>84.422781</td>\n",
       "    </tr>\n",
       "    <tr>\n",
       "      <td>std</td>\n",
       "      <td>45.023853</td>\n",
       "    </tr>\n",
       "    <tr>\n",
       "      <td>min</td>\n",
       "      <td>0.000000</td>\n",
       "    </tr>\n",
       "    <tr>\n",
       "      <td>25%</td>\n",
       "      <td>54.000000</td>\n",
       "    </tr>\n",
       "    <tr>\n",
       "      <td>50%</td>\n",
       "      <td>78.000000</td>\n",
       "    </tr>\n",
       "    <tr>\n",
       "      <td>75%</td>\n",
       "      <td>107.000000</td>\n",
       "    </tr>\n",
       "    <tr>\n",
       "      <td>max</td>\n",
       "      <td>462.000000</td>\n",
       "    </tr>\n",
       "  </tbody>\n",
       "</table>\n",
       "</div>"
      ],
      "text/plain": [
       "        num_orders\n",
       "count  4416.000000\n",
       "mean     84.422781\n",
       "std      45.023853\n",
       "min       0.000000\n",
       "25%      54.000000\n",
       "50%      78.000000\n",
       "75%     107.000000\n",
       "max     462.000000"
      ]
     },
     "metadata": {},
     "output_type": "display_data"
    },
    {
     "name": "stdout",
     "output_type": "stream",
     "text": [
      "Монотонный ли индекс  True\n",
      "Количество пропусков             Total  Percent\n",
      "num_orders      0      0.0\n",
      "_____________________________________________\n"
     ]
    }
   ],
   "source": [
    "examine_datetime_df(data)"
   ]
  },
  {
   "cell_type": "markdown",
   "metadata": {},
   "source": [
    "# Анализ"
   ]
  },
  {
   "cell_type": "code",
   "execution_count": 7,
   "metadata": {},
   "outputs": [
    {
     "data": {
      "text/plain": [
       "DatetimeIndex(['2018-03-01 00:00:00', '2018-03-01 01:00:00',\n",
       "               '2018-03-01 02:00:00', '2018-03-01 03:00:00',\n",
       "               '2018-03-01 04:00:00', '2018-03-01 05:00:00',\n",
       "               '2018-03-01 06:00:00', '2018-03-01 07:00:00',\n",
       "               '2018-03-01 08:00:00', '2018-03-01 09:00:00',\n",
       "               ...\n",
       "               '2018-08-31 14:00:00', '2018-08-31 15:00:00',\n",
       "               '2018-08-31 16:00:00', '2018-08-31 17:00:00',\n",
       "               '2018-08-31 18:00:00', '2018-08-31 19:00:00',\n",
       "               '2018-08-31 20:00:00', '2018-08-31 21:00:00',\n",
       "               '2018-08-31 22:00:00', '2018-08-31 23:00:00'],\n",
       "              dtype='datetime64[ns]', name='datetime', length=4416, freq='H')"
      ]
     },
     "execution_count": 7,
     "metadata": {},
     "output_type": "execute_result"
    }
   ],
   "source": [
    "data.index"
   ]
  },
  {
   "cell_type": "markdown",
   "metadata": {},
   "source": [
    "Посмотрим на тренды и сезонность:"
   ]
  },
  {
   "cell_type": "code",
   "execution_count": 8,
   "metadata": {},
   "outputs": [
    {
     "data": {
      "text/plain": [
       "<matplotlib.axes._subplots.AxesSubplot at 0x7f27c6ddb290>"
      ]
     },
     "execution_count": 8,
     "metadata": {},
     "output_type": "execute_result"
    },
    {
     "data": {
      "image/png": "[encoded data removed]",
      "text/plain": [
       "<Figure size 432x288 with 1 Axes>"
      ]
     },
     "metadata": {
      "needs_background": "light"
     },
     "output_type": "display_data"
    },
    {
     "data": {
      "image/png": "[encoded data removed]",
      "text/plain": [
       "<Figure size 432x288 with 1 Axes>"
      ]
     },
     "metadata": {
      "needs_background": "light"
     },
     "output_type": "display_data"
    },
    {
     "data": {
      "image/png": "[encoded data removed]",
      "text/plain": [
       "<Figure size 432x288 with 1 Axes>"
      ]
     },
     "metadata": {
      "needs_background": "light"
     },
     "output_type": "display_data"
    },
    {
     "data": {
      "image/png": "[encoded data removed]",
      "text/plain": [
       "<Figure size 432x288 with 1 Axes>"
      ]
     },
     "metadata": {
      "needs_background": "light"
     },
     "output_type": "display_data"
    }
   ],
   "source": [
    "decomposed = seasonal_decompose(data)\n",
    "decomposed.trend.plot(title='Тренд')\n",
    "decomposed.seasonal.plot(title='Сезонность')\n",
    "decomposed.seasonal['2018-03-01':'2018-03-02'].plot(title='Сезонность 2018-03-01 - 2018-03-02')\n",
    "decomposed.resid.plot(title='Остаток')"
   ]
  },
  {
   "cell_type": "markdown",
   "metadata": {},
   "source": [
    "Общий тренд - количество заказов такси растет. Ночью заказов меньше, чем днем, минимальное значение около 6 утра, максимальное количество заказов всегда в районе полуночи."
   ]
  },
  {
   "cell_type": "markdown",
   "metadata": {},
   "source": [
    "# Обучение"
   ]
  },
  {
   "cell_type": "code",
   "execution_count": 9,
   "metadata": {},
   "outputs": [],
   "source": [
    "def make_features(data, max_lag, rolling_mean_size):\n",
    "    new_data = data.copy()\n",
    "    new_data['year'] = data.index.year\n",
    "    new_data['month'] = data.index.month\n",
    "    new_data['day'] = data.index.day\n",
    "    new_data['dayofweek'] = data.index.dayofweek\n",
    "    new_data['hour'] = data.index.hour\n",
    "    for lag in range(1, max_lag + 1):\n",
    "        new_data['lag_{}'.format(lag)] = data['num_orders'].shift(lag)\n",
    "\n",
    "    new_data['rolling_mean'] = data['num_orders'].shift().rolling(rolling_mean_size).mean()\n",
    "    \n",
    "    return new_data"
   ]
  },
  {
   "cell_type": "code",
   "execution_count": 10,
   "metadata": {},
   "outputs": [],
   "source": [
    "def split_data(data):\n",
    "    features = data.drop('num_orders', axis=1)\n",
    "    target = data['num_orders']\n",
    "\n",
    "    features_train, features_test, target_train, target_test = train_test_split(features, target, shuffle=False, test_size=0.1, random_state=12345)\n",
    "    null_features = features_train[features_train.isnull().any(axis=1)].index.tolist()\n",
    "    \n",
    "    target_train.drop(null_features, axis=0, inplace=True)\n",
    "    \n",
    "    features_train.dropna(inplace=True)\n",
    "    return features_train, features_test, target_train, target_test"
   ]
  },
  {
   "cell_type": "markdown",
   "metadata": {},
   "source": [
    "Результаты обучения будем записывать в таблицу:"
   ]
  },
  {
   "cell_type": "code",
   "execution_count": 11,
   "metadata": {},
   "outputs": [],
   "source": [
    "results = pd.DataFrame([], columns = ['model','rmse', 'time', 'lag', 'window', 'parameters'])"
   ]
  },
  {
   "cell_type": "code",
   "execution_count": 12,
   "metadata": {},
   "outputs": [
    {
     "data": {
      "application/vnd.jupyter.widget-view+json": {
       "model_id": "9ddfa6901d2b48a9801ddeb0a30b71af",
       "version_major": 2,
       "version_minor": 0
      },
      "text/plain": [
       "HBox(children=(FloatProgress(value=0.0, description='lag', max=4.0, style=ProgressStyle(description_width='ini…"
      ]
     },
     "metadata": {},
     "output_type": "display_data"
    },
    {
     "data": {
      "application/vnd.jupyter.widget-view+json": {
       "model_id": "1517de6304f2450a99b57a66ca83788c",
       "version_major": 2,
       "version_minor": 0
      },
      "text/plain": [
       "HBox(children=(FloatProgress(value=0.0, description='window', max=4.0, style=ProgressStyle(description_width='…"
      ]
     },
     "metadata": {},
     "output_type": "display_data"
    },
    {
     "name": "stdout",
     "output_type": "stream",
     "text": [
      "\n"
     ]
    },
    {
     "data": {
      "application/vnd.jupyter.widget-view+json": {
       "model_id": "a3e04d58ef83487bb403131b496b8e2f",
       "version_major": 2,
       "version_minor": 0
      },
      "text/plain": [
       "HBox(children=(FloatProgress(value=0.0, description='window', max=4.0, style=ProgressStyle(description_width='…"
      ]
     },
     "metadata": {},
     "output_type": "display_data"
    },
    {
     "name": "stdout",
     "output_type": "stream",
     "text": [
      "\n"
     ]
    },
    {
     "data": {
      "application/vnd.jupyter.widget-view+json": {
       "model_id": "7c4c82c4a2af4536ba80a3920c96d3fc",
       "version_major": 2,
       "version_minor": 0
      },
      "text/plain": [
       "HBox(children=(FloatProgress(value=0.0, description='window', max=4.0, style=ProgressStyle(description_width='…"
      ]
     },
     "metadata": {},
     "output_type": "display_data"
    },
    {
     "name": "stdout",
     "output_type": "stream",
     "text": [
      "\n"
     ]
    },
    {
     "data": {
      "application/vnd.jupyter.widget-view+json": {
       "model_id": "fdc5942faad842bab6de3ece4fa66778",
       "version_major": 2,
       "version_minor": 0
      },
      "text/plain": [
       "HBox(children=(FloatProgress(value=0.0, description='window', max=4.0, style=ProgressStyle(description_width='…"
      ]
     },
     "metadata": {},
     "output_type": "display_data"
    },
    {
     "name": "stdout",
     "output_type": "stream",
     "text": [
      "\n",
      "\n"
     ]
    }
   ],
   "source": [
    "models = [CatBoostRegressor(logging_level='Silent'), RandomForestRegressor()]\n",
    "params = {'n_estimators':range(100, 400, 50), 'max_depth':range(1,6)}\n",
    "\n",
    "for lag in tqdm(range(1,5), desc='lag'):\n",
    "    for window in tqdm(range(1,5), desc='window'):\n",
    "        df = make_features(data, lag, window)\n",
    "        features_train, features_test, target_train, target_test = split_data(df)\n",
    "        for model in models:\n",
    "            tscv = TimeSeriesSplit(n_splits=2)        \n",
    "            gsearch = GridSearchCV(estimator=model, cv=tscv,\n",
    "                        param_grid=params, scoring='neg_mean_squared_error')\n",
    "            start_time = time.time()\n",
    "            gsearch.fit(features_train, target_train)\n",
    "            time_edu= time.time() - start_time\n",
    "            new_row = {'model': model,'rmse':np.sqrt(-1*gsearch.best_score_), 'time':time_edu, 'lag':lag, 'window':window, 'parameters':gsearch.best_params_}\n",
    "            \n",
    "            results = results.append(new_row, ignore_index=True)\n",
    "                    "
   ]
  },
  {
   "cell_type": "code",
   "execution_count": 13,
   "metadata": {},
   "outputs": [
    {
     "data": {
      "application/vnd.jupyter.widget-view+json": {
       "model_id": "fb6206e01fdb4aab89f43e01fffd1a3a",
       "version_major": 2,
       "version_minor": 0
      },
      "text/plain": [
       "HBox(children=(FloatProgress(value=0.0, description='lag', max=4.0, style=ProgressStyle(description_width='ini…"
      ]
     },
     "metadata": {},
     "output_type": "display_data"
    },
    {
     "data": {
      "application/vnd.jupyter.widget-view+json": {
       "model_id": "144c1e6009bf48a3a54d117d29828575",
       "version_major": 2,
       "version_minor": 0
      },
      "text/plain": [
       "HBox(children=(FloatProgress(value=0.0, description='window', max=4.0, style=ProgressStyle(description_width='…"
      ]
     },
     "metadata": {},
     "output_type": "display_data"
    },
    {
     "name": "stdout",
     "output_type": "stream",
     "text": [
      "\n"
     ]
    },
    {
     "data": {
      "application/vnd.jupyter.widget-view+json": {
       "model_id": "411a57ab29fd4ac8aa75d4c8626d5780",
       "version_major": 2,
       "version_minor": 0
      },
      "text/plain": [
       "HBox(children=(FloatProgress(value=0.0, description='window', max=4.0, style=ProgressStyle(description_width='…"
      ]
     },
     "metadata": {},
     "output_type": "display_data"
    },
    {
     "name": "stdout",
     "output_type": "stream",
     "text": [
      "\n"
     ]
    },
    {
     "data": {
      "application/vnd.jupyter.widget-view+json": {
       "model_id": "adca1536ad3a456e94879d17b38cf08c",
       "version_major": 2,
       "version_minor": 0
      },
      "text/plain": [
       "HBox(children=(FloatProgress(value=0.0, description='window', max=4.0, style=ProgressStyle(description_width='…"
      ]
     },
     "metadata": {},
     "output_type": "display_data"
    },
    {
     "name": "stdout",
     "output_type": "stream",
     "text": [
      "\n"
     ]
    },
    {
     "data": {
      "application/vnd.jupyter.widget-view+json": {
       "model_id": "9123d0fe11d04f1e8b03682e381f3006",
       "version_major": 2,
       "version_minor": 0
      },
      "text/plain": [
       "HBox(children=(FloatProgress(value=0.0, description='window', max=4.0, style=ProgressStyle(description_width='…"
      ]
     },
     "metadata": {},
     "output_type": "display_data"
    },
    {
     "name": "stdout",
     "output_type": "stream",
     "text": [
      "\n",
      "\n"
     ]
    }
   ],
   "source": [
    "params_lr = {'fit_intercept':[True,False], 'normalize':[True,False]}\n",
    "model = LinearRegression()\n",
    "for lag in tqdm(range(1,5), desc='lag'):\n",
    "    for window in tqdm(range(1,5), desc='window'):\n",
    "        df = make_features(data, lag, window)\n",
    "        features_train, features_test, target_train, target_test = split_data(df)\n",
    "        tscv = TimeSeriesSplit(n_splits=2)        \n",
    "        gsearch = GridSearchCV(estimator=model, cv=tscv,\n",
    "                        param_grid=params_lr, scoring='neg_mean_squared_error')\n",
    "        start_time = time.time()\n",
    "        gsearch.fit(features_train, target_train)\n",
    "        time_edu= time.time() - start_time\n",
    "        new_row = {'model': model,'rmse':np.sqrt(-1*gsearch.best_score_), 'time':time_edu, 'lag':lag, 'window':window, 'parameters':gsearch.best_params_}\n",
    "        results = results.append(new_row, ignore_index=True)\n",
    "        "
   ]
  },
  {
   "cell_type": "code",
   "execution_count": 14,
   "metadata": {},
   "outputs": [
    {
     "data": {
      "text/html": [
       "<div>\n",
       "<style scoped>\n",
       "    .dataframe tbody tr th:only-of-type {\n",
       "        vertical-align: middle;\n",
       "    }\n",
       "\n",
       "    .dataframe tbody tr th {\n",
       "        vertical-align: top;\n",
       "    }\n",
       "\n",
       "    .dataframe thead th {\n",
       "        text-align: right;\n",
       "    }\n",
       "</style>\n",
       "<table border=\"1\" class=\"dataframe\">\n",
       "  <thead>\n",
       "    <tr style=\"text-align: right;\">\n",
       "      <th></th>\n",
       "      <th>model</th>\n",
       "      <th>rmse</th>\n",
       "      <th>time</th>\n",
       "      <th>lag</th>\n",
       "      <th>window</th>\n",
       "      <th>parameters</th>\n",
       "    </tr>\n",
       "  </thead>\n",
       "  <tbody>\n",
       "    <tr>\n",
       "      <td>16</td>\n",
       "      <td>&lt;catboost.core.CatBoostRegressor object at 0x7...</td>\n",
       "      <td>29.197535</td>\n",
       "      <td>139.699100</td>\n",
       "      <td>3</td>\n",
       "      <td>1</td>\n",
       "      <td>{'max_depth': 5, 'n_estimators': 350}</td>\n",
       "    </tr>\n",
       "    <tr>\n",
       "      <td>20</td>\n",
       "      <td>&lt;catboost.core.CatBoostRegressor object at 0x7...</td>\n",
       "      <td>29.255401</td>\n",
       "      <td>129.709845</td>\n",
       "      <td>3</td>\n",
       "      <td>3</td>\n",
       "      <td>{'max_depth': 5, 'n_estimators': 350}</td>\n",
       "    </tr>\n",
       "    <tr>\n",
       "      <td>18</td>\n",
       "      <td>&lt;catboost.core.CatBoostRegressor object at 0x7...</td>\n",
       "      <td>29.299220</td>\n",
       "      <td>156.985659</td>\n",
       "      <td>3</td>\n",
       "      <td>2</td>\n",
       "      <td>{'max_depth': 5, 'n_estimators': 350}</td>\n",
       "    </tr>\n",
       "    <tr>\n",
       "      <td>22</td>\n",
       "      <td>&lt;catboost.core.CatBoostRegressor object at 0x7...</td>\n",
       "      <td>29.299356</td>\n",
       "      <td>133.240704</td>\n",
       "      <td>3</td>\n",
       "      <td>4</td>\n",
       "      <td>{'max_depth': 4, 'n_estimators': 350}</td>\n",
       "    </tr>\n",
       "    <tr>\n",
       "      <td>24</td>\n",
       "      <td>&lt;catboost.core.CatBoostRegressor object at 0x7...</td>\n",
       "      <td>29.330168</td>\n",
       "      <td>150.581972</td>\n",
       "      <td>4</td>\n",
       "      <td>1</td>\n",
       "      <td>{'max_depth': 5, 'n_estimators': 350}</td>\n",
       "    </tr>\n",
       "    <tr>\n",
       "      <td>12</td>\n",
       "      <td>&lt;catboost.core.CatBoostRegressor object at 0x7...</td>\n",
       "      <td>29.354188</td>\n",
       "      <td>138.472223</td>\n",
       "      <td>2</td>\n",
       "      <td>3</td>\n",
       "      <td>{'max_depth': 5, 'n_estimators': 350}</td>\n",
       "    </tr>\n",
       "    <tr>\n",
       "      <td>4</td>\n",
       "      <td>&lt;catboost.core.CatBoostRegressor object at 0x7...</td>\n",
       "      <td>29.390654</td>\n",
       "      <td>153.446267</td>\n",
       "      <td>1</td>\n",
       "      <td>3</td>\n",
       "      <td>{'max_depth': 5, 'n_estimators': 350}</td>\n",
       "    </tr>\n",
       "    <tr>\n",
       "      <td>28</td>\n",
       "      <td>&lt;catboost.core.CatBoostRegressor object at 0x7...</td>\n",
       "      <td>29.434979</td>\n",
       "      <td>142.964478</td>\n",
       "      <td>4</td>\n",
       "      <td>3</td>\n",
       "      <td>{'max_depth': 5, 'n_estimators': 350}</td>\n",
       "    </tr>\n",
       "    <tr>\n",
       "      <td>30</td>\n",
       "      <td>&lt;catboost.core.CatBoostRegressor object at 0x7...</td>\n",
       "      <td>29.455638</td>\n",
       "      <td>143.751579</td>\n",
       "      <td>4</td>\n",
       "      <td>4</td>\n",
       "      <td>{'max_depth': 5, 'n_estimators': 350}</td>\n",
       "    </tr>\n",
       "    <tr>\n",
       "      <td>6</td>\n",
       "      <td>&lt;catboost.core.CatBoostRegressor object at 0x7...</td>\n",
       "      <td>29.456330</td>\n",
       "      <td>128.982785</td>\n",
       "      <td>1</td>\n",
       "      <td>4</td>\n",
       "      <td>{'max_depth': 5, 'n_estimators': 350}</td>\n",
       "    </tr>\n",
       "    <tr>\n",
       "      <td>26</td>\n",
       "      <td>&lt;catboost.core.CatBoostRegressor object at 0x7...</td>\n",
       "      <td>29.485111</td>\n",
       "      <td>132.479077</td>\n",
       "      <td>4</td>\n",
       "      <td>2</td>\n",
       "      <td>{'max_depth': 5, 'n_estimators': 350}</td>\n",
       "    </tr>\n",
       "    <tr>\n",
       "      <td>2</td>\n",
       "      <td>&lt;catboost.core.CatBoostRegressor object at 0x7...</td>\n",
       "      <td>29.497830</td>\n",
       "      <td>132.531930</td>\n",
       "      <td>1</td>\n",
       "      <td>2</td>\n",
       "      <td>{'max_depth': 5, 'n_estimators': 350}</td>\n",
       "    </tr>\n",
       "    <tr>\n",
       "      <td>14</td>\n",
       "      <td>&lt;catboost.core.CatBoostRegressor object at 0x7...</td>\n",
       "      <td>29.513741</td>\n",
       "      <td>135.449934</td>\n",
       "      <td>2</td>\n",
       "      <td>4</td>\n",
       "      <td>{'max_depth': 4, 'n_estimators': 350}</td>\n",
       "    </tr>\n",
       "    <tr>\n",
       "      <td>10</td>\n",
       "      <td>&lt;catboost.core.CatBoostRegressor object at 0x7...</td>\n",
       "      <td>29.575624</td>\n",
       "      <td>130.426623</td>\n",
       "      <td>2</td>\n",
       "      <td>2</td>\n",
       "      <td>{'max_depth': 5, 'n_estimators': 350}</td>\n",
       "    </tr>\n",
       "    <tr>\n",
       "      <td>8</td>\n",
       "      <td>&lt;catboost.core.CatBoostRegressor object at 0x7...</td>\n",
       "      <td>29.623403</td>\n",
       "      <td>132.533428</td>\n",
       "      <td>2</td>\n",
       "      <td>1</td>\n",
       "      <td>{'max_depth': 5, 'n_estimators': 350}</td>\n",
       "    </tr>\n",
       "    <tr>\n",
       "      <td>0</td>\n",
       "      <td>&lt;catboost.core.CatBoostRegressor object at 0x7...</td>\n",
       "      <td>30.020610</td>\n",
       "      <td>132.215075</td>\n",
       "      <td>1</td>\n",
       "      <td>1</td>\n",
       "      <td>{'max_depth': 5, 'n_estimators': 350}</td>\n",
       "    </tr>\n",
       "    <tr>\n",
       "      <td>13</td>\n",
       "      <td>RandomForestRegressor(bootstrap=True, criterio...</td>\n",
       "      <td>33.045043</td>\n",
       "      <td>23.790908</td>\n",
       "      <td>2</td>\n",
       "      <td>3</td>\n",
       "      <td>{'max_depth': 5, 'n_estimators': 100}</td>\n",
       "    </tr>\n",
       "    <tr>\n",
       "      <td>39</td>\n",
       "      <td>LinearRegression(copy_X=True, fit_intercept=Tr...</td>\n",
       "      <td>33.051725</td>\n",
       "      <td>0.398360</td>\n",
       "      <td>2</td>\n",
       "      <td>4</td>\n",
       "      <td>{'fit_intercept': False, 'normalize': True}</td>\n",
       "    </tr>\n",
       "    <tr>\n",
       "      <td>5</td>\n",
       "      <td>RandomForestRegressor(bootstrap=True, criterio...</td>\n",
       "      <td>33.080145</td>\n",
       "      <td>21.785898</td>\n",
       "      <td>1</td>\n",
       "      <td>3</td>\n",
       "      <td>{'max_depth': 5, 'n_estimators': 100}</td>\n",
       "    </tr>\n",
       "    <tr>\n",
       "      <td>15</td>\n",
       "      <td>RandomForestRegressor(bootstrap=True, criterio...</td>\n",
       "      <td>33.083415</td>\n",
       "      <td>24.364179</td>\n",
       "      <td>2</td>\n",
       "      <td>4</td>\n",
       "      <td>{'max_depth': 5, 'n_estimators': 150}</td>\n",
       "    </tr>\n",
       "    <tr>\n",
       "      <td>38</td>\n",
       "      <td>LinearRegression(copy_X=True, fit_intercept=Tr...</td>\n",
       "      <td>33.092506</td>\n",
       "      <td>0.395961</td>\n",
       "      <td>2</td>\n",
       "      <td>3</td>\n",
       "      <td>{'fit_intercept': False, 'normalize': True}</td>\n",
       "    </tr>\n",
       "    <tr>\n",
       "      <td>40</td>\n",
       "      <td>LinearRegression(copy_X=True, fit_intercept=Tr...</td>\n",
       "      <td>33.092506</td>\n",
       "      <td>0.375803</td>\n",
       "      <td>3</td>\n",
       "      <td>1</td>\n",
       "      <td>{'fit_intercept': False, 'normalize': True}</td>\n",
       "    </tr>\n",
       "    <tr>\n",
       "      <td>41</td>\n",
       "      <td>LinearRegression(copy_X=True, fit_intercept=Tr...</td>\n",
       "      <td>33.092506</td>\n",
       "      <td>0.386019</td>\n",
       "      <td>3</td>\n",
       "      <td>2</td>\n",
       "      <td>{'fit_intercept': False, 'normalize': True}</td>\n",
       "    </tr>\n",
       "    <tr>\n",
       "      <td>42</td>\n",
       "      <td>LinearRegression(copy_X=True, fit_intercept=Tr...</td>\n",
       "      <td>33.092506</td>\n",
       "      <td>0.302497</td>\n",
       "      <td>3</td>\n",
       "      <td>3</td>\n",
       "      <td>{'fit_intercept': False, 'normalize': True}</td>\n",
       "    </tr>\n",
       "    <tr>\n",
       "      <td>7</td>\n",
       "      <td>RandomForestRegressor(bootstrap=True, criterio...</td>\n",
       "      <td>33.109040</td>\n",
       "      <td>22.019651</td>\n",
       "      <td>1</td>\n",
       "      <td>4</td>\n",
       "      <td>{'max_depth': 5, 'n_estimators': 300}</td>\n",
       "    </tr>\n",
       "    <tr>\n",
       "      <td>21</td>\n",
       "      <td>RandomForestRegressor(bootstrap=True, criterio...</td>\n",
       "      <td>33.111190</td>\n",
       "      <td>26.684863</td>\n",
       "      <td>3</td>\n",
       "      <td>3</td>\n",
       "      <td>{'max_depth': 5, 'n_estimators': 200}</td>\n",
       "    </tr>\n",
       "    <tr>\n",
       "      <td>23</td>\n",
       "      <td>RandomForestRegressor(bootstrap=True, criterio...</td>\n",
       "      <td>33.118392</td>\n",
       "      <td>26.507019</td>\n",
       "      <td>3</td>\n",
       "      <td>4</td>\n",
       "      <td>{'max_depth': 5, 'n_estimators': 150}</td>\n",
       "    </tr>\n",
       "    <tr>\n",
       "      <td>32</td>\n",
       "      <td>LinearRegression(copy_X=True, fit_intercept=Tr...</td>\n",
       "      <td>33.126460</td>\n",
       "      <td>0.392981</td>\n",
       "      <td>1</td>\n",
       "      <td>1</td>\n",
       "      <td>{'fit_intercept': False, 'normalize': True}</td>\n",
       "    </tr>\n",
       "    <tr>\n",
       "      <td>35</td>\n",
       "      <td>LinearRegression(copy_X=True, fit_intercept=Tr...</td>\n",
       "      <td>33.137274</td>\n",
       "      <td>0.390678</td>\n",
       "      <td>1</td>\n",
       "      <td>4</td>\n",
       "      <td>{'fit_intercept': False, 'normalize': True}</td>\n",
       "    </tr>\n",
       "    <tr>\n",
       "      <td>31</td>\n",
       "      <td>RandomForestRegressor(bootstrap=True, criterio...</td>\n",
       "      <td>33.141160</td>\n",
       "      <td>28.799102</td>\n",
       "      <td>4</td>\n",
       "      <td>4</td>\n",
       "      <td>{'max_depth': 5, 'n_estimators': 100}</td>\n",
       "    </tr>\n",
       "    <tr>\n",
       "      <td>36</td>\n",
       "      <td>LinearRegression(copy_X=True, fit_intercept=Tr...</td>\n",
       "      <td>33.141509</td>\n",
       "      <td>0.469539</td>\n",
       "      <td>2</td>\n",
       "      <td>1</td>\n",
       "      <td>{'fit_intercept': True, 'normalize': True}</td>\n",
       "    </tr>\n",
       "    <tr>\n",
       "      <td>37</td>\n",
       "      <td>LinearRegression(copy_X=True, fit_intercept=Tr...</td>\n",
       "      <td>33.169150</td>\n",
       "      <td>0.387589</td>\n",
       "      <td>2</td>\n",
       "      <td>2</td>\n",
       "      <td>{'fit_intercept': False, 'normalize': True}</td>\n",
       "    </tr>\n",
       "    <tr>\n",
       "      <td>33</td>\n",
       "      <td>LinearRegression(copy_X=True, fit_intercept=Tr...</td>\n",
       "      <td>33.169150</td>\n",
       "      <td>0.388826</td>\n",
       "      <td>1</td>\n",
       "      <td>2</td>\n",
       "      <td>{'fit_intercept': False, 'normalize': True}</td>\n",
       "    </tr>\n",
       "    <tr>\n",
       "      <td>29</td>\n",
       "      <td>RandomForestRegressor(bootstrap=True, criterio...</td>\n",
       "      <td>33.172263</td>\n",
       "      <td>29.129675</td>\n",
       "      <td>4</td>\n",
       "      <td>3</td>\n",
       "      <td>{'max_depth': 5, 'n_estimators': 100}</td>\n",
       "    </tr>\n",
       "    <tr>\n",
       "      <td>45</td>\n",
       "      <td>LinearRegression(copy_X=True, fit_intercept=Tr...</td>\n",
       "      <td>33.185091</td>\n",
       "      <td>0.393240</td>\n",
       "      <td>4</td>\n",
       "      <td>2</td>\n",
       "      <td>{'fit_intercept': False, 'normalize': True}</td>\n",
       "    </tr>\n",
       "    <tr>\n",
       "      <td>44</td>\n",
       "      <td>LinearRegression(copy_X=True, fit_intercept=Tr...</td>\n",
       "      <td>33.185091</td>\n",
       "      <td>0.484782</td>\n",
       "      <td>4</td>\n",
       "      <td>1</td>\n",
       "      <td>{'fit_intercept': False, 'normalize': True}</td>\n",
       "    </tr>\n",
       "    <tr>\n",
       "      <td>46</td>\n",
       "      <td>LinearRegression(copy_X=True, fit_intercept=Tr...</td>\n",
       "      <td>33.185091</td>\n",
       "      <td>0.395737</td>\n",
       "      <td>4</td>\n",
       "      <td>3</td>\n",
       "      <td>{'fit_intercept': False, 'normalize': True}</td>\n",
       "    </tr>\n",
       "    <tr>\n",
       "      <td>47</td>\n",
       "      <td>LinearRegression(copy_X=True, fit_intercept=Tr...</td>\n",
       "      <td>33.185091</td>\n",
       "      <td>0.490645</td>\n",
       "      <td>4</td>\n",
       "      <td>4</td>\n",
       "      <td>{'fit_intercept': False, 'normalize': True}</td>\n",
       "    </tr>\n",
       "    <tr>\n",
       "      <td>43</td>\n",
       "      <td>LinearRegression(copy_X=True, fit_intercept=Tr...</td>\n",
       "      <td>33.185091</td>\n",
       "      <td>0.308668</td>\n",
       "      <td>3</td>\n",
       "      <td>4</td>\n",
       "      <td>{'fit_intercept': False, 'normalize': True}</td>\n",
       "    </tr>\n",
       "    <tr>\n",
       "      <td>34</td>\n",
       "      <td>LinearRegression(copy_X=True, fit_intercept=Tr...</td>\n",
       "      <td>33.229212</td>\n",
       "      <td>0.297947</td>\n",
       "      <td>1</td>\n",
       "      <td>3</td>\n",
       "      <td>{'fit_intercept': False, 'normalize': True}</td>\n",
       "    </tr>\n",
       "    <tr>\n",
       "      <td>19</td>\n",
       "      <td>RandomForestRegressor(bootstrap=True, criterio...</td>\n",
       "      <td>33.351493</td>\n",
       "      <td>27.827434</td>\n",
       "      <td>3</td>\n",
       "      <td>2</td>\n",
       "      <td>{'max_depth': 5, 'n_estimators': 250}</td>\n",
       "    </tr>\n",
       "    <tr>\n",
       "      <td>17</td>\n",
       "      <td>RandomForestRegressor(bootstrap=True, criterio...</td>\n",
       "      <td>33.465663</td>\n",
       "      <td>26.678820</td>\n",
       "      <td>3</td>\n",
       "      <td>1</td>\n",
       "      <td>{'max_depth': 5, 'n_estimators': 300}</td>\n",
       "    </tr>\n",
       "    <tr>\n",
       "      <td>27</td>\n",
       "      <td>RandomForestRegressor(bootstrap=True, criterio...</td>\n",
       "      <td>33.505971</td>\n",
       "      <td>29.692551</td>\n",
       "      <td>4</td>\n",
       "      <td>2</td>\n",
       "      <td>{'max_depth': 5, 'n_estimators': 300}</td>\n",
       "    </tr>\n",
       "    <tr>\n",
       "      <td>11</td>\n",
       "      <td>RandomForestRegressor(bootstrap=True, criterio...</td>\n",
       "      <td>33.562916</td>\n",
       "      <td>25.030681</td>\n",
       "      <td>2</td>\n",
       "      <td>2</td>\n",
       "      <td>{'max_depth': 5, 'n_estimators': 350}</td>\n",
       "    </tr>\n",
       "    <tr>\n",
       "      <td>3</td>\n",
       "      <td>RandomForestRegressor(bootstrap=True, criterio...</td>\n",
       "      <td>33.593191</td>\n",
       "      <td>21.234983</td>\n",
       "      <td>1</td>\n",
       "      <td>2</td>\n",
       "      <td>{'max_depth': 5, 'n_estimators': 200}</td>\n",
       "    </tr>\n",
       "    <tr>\n",
       "      <td>25</td>\n",
       "      <td>RandomForestRegressor(bootstrap=True, criterio...</td>\n",
       "      <td>33.693195</td>\n",
       "      <td>28.285704</td>\n",
       "      <td>4</td>\n",
       "      <td>1</td>\n",
       "      <td>{'max_depth': 5, 'n_estimators': 200}</td>\n",
       "    </tr>\n",
       "    <tr>\n",
       "      <td>9</td>\n",
       "      <td>RandomForestRegressor(bootstrap=True, criterio...</td>\n",
       "      <td>33.693380</td>\n",
       "      <td>23.411538</td>\n",
       "      <td>2</td>\n",
       "      <td>1</td>\n",
       "      <td>{'max_depth': 5, 'n_estimators': 250}</td>\n",
       "    </tr>\n",
       "    <tr>\n",
       "      <td>1</td>\n",
       "      <td>RandomForestRegressor(bootstrap=True, criterio...</td>\n",
       "      <td>34.163764</td>\n",
       "      <td>20.353548</td>\n",
       "      <td>1</td>\n",
       "      <td>1</td>\n",
       "      <td>{'max_depth': 5, 'n_estimators': 150}</td>\n",
       "    </tr>\n",
       "  </tbody>\n",
       "</table>\n",
       "</div>"
      ],
      "text/plain": [
       "                                                model       rmse        time  \\\n",
       "16  <catboost.core.CatBoostRegressor object at 0x7...  29.197535  139.699100   \n",
       "20  <catboost.core.CatBoostRegressor object at 0x7...  29.255401  129.709845   \n",
       "18  <catboost.core.CatBoostRegressor object at 0x7...  29.299220  156.985659   \n",
       "22  <catboost.core.CatBoostRegressor object at 0x7...  29.299356  133.240704   \n",
       "24  <catboost.core.CatBoostRegressor object at 0x7...  29.330168  150.581972   \n",
       "12  <catboost.core.CatBoostRegressor object at 0x7...  29.354188  138.472223   \n",
       "4   <catboost.core.CatBoostRegressor object at 0x7...  29.390654  153.446267   \n",
       "28  <catboost.core.CatBoostRegressor object at 0x7...  29.434979  142.964478   \n",
       "30  <catboost.core.CatBoostRegressor object at 0x7...  29.455638  143.751579   \n",
       "6   <catboost.core.CatBoostRegressor object at 0x7...  29.456330  128.982785   \n",
       "26  <catboost.core.CatBoostRegressor object at 0x7...  29.485111  132.479077   \n",
       "2   <catboost.core.CatBoostRegressor object at 0x7...  29.497830  132.531930   \n",
       "14  <catboost.core.CatBoostRegressor object at 0x7...  29.513741  135.449934   \n",
       "10  <catboost.core.CatBoostRegressor object at 0x7...  29.575624  130.426623   \n",
       "8   <catboost.core.CatBoostRegressor object at 0x7...  29.623403  132.533428   \n",
       "0   <catboost.core.CatBoostRegressor object at 0x7...  30.020610  132.215075   \n",
       "13  RandomForestRegressor(bootstrap=True, criterio...  33.045043   23.790908   \n",
       "39  LinearRegression(copy_X=True, fit_intercept=Tr...  33.051725    0.398360   \n",
       "5   RandomForestRegressor(bootstrap=True, criterio...  33.080145   21.785898   \n",
       "15  RandomForestRegressor(bootstrap=True, criterio...  33.083415   24.364179   \n",
       "38  LinearRegression(copy_X=True, fit_intercept=Tr...  33.092506    0.395961   \n",
       "40  LinearRegression(copy_X=True, fit_intercept=Tr...  33.092506    0.375803   \n",
       "41  LinearRegression(copy_X=True, fit_intercept=Tr...  33.092506    0.386019   \n",
       "42  LinearRegression(copy_X=True, fit_intercept=Tr...  33.092506    0.302497   \n",
       "7   RandomForestRegressor(bootstrap=True, criterio...  33.109040   22.019651   \n",
       "21  RandomForestRegressor(bootstrap=True, criterio...  33.111190   26.684863   \n",
       "23  RandomForestRegressor(bootstrap=True, criterio...  33.118392   26.507019   \n",
       "32  LinearRegression(copy_X=True, fit_intercept=Tr...  33.126460    0.392981   \n",
       "35  LinearRegression(copy_X=True, fit_intercept=Tr...  33.137274    0.390678   \n",
       "31  RandomForestRegressor(bootstrap=True, criterio...  33.141160   28.799102   \n",
       "36  LinearRegression(copy_X=True, fit_intercept=Tr...  33.141509    0.469539   \n",
       "37  LinearRegression(copy_X=True, fit_intercept=Tr...  33.169150    0.387589   \n",
       "33  LinearRegression(copy_X=True, fit_intercept=Tr...  33.169150    0.388826   \n",
       "29  RandomForestRegressor(bootstrap=True, criterio...  33.172263   29.129675   \n",
       "45  LinearRegression(copy_X=True, fit_intercept=Tr...  33.185091    0.393240   \n",
       "44  LinearRegression(copy_X=True, fit_intercept=Tr...  33.185091    0.484782   \n",
       "46  LinearRegression(copy_X=True, fit_intercept=Tr...  33.185091    0.395737   \n",
       "47  LinearRegression(copy_X=True, fit_intercept=Tr...  33.185091    0.490645   \n",
       "43  LinearRegression(copy_X=True, fit_intercept=Tr...  33.185091    0.308668   \n",
       "34  LinearRegression(copy_X=True, fit_intercept=Tr...  33.229212    0.297947   \n",
       "19  RandomForestRegressor(bootstrap=True, criterio...  33.351493   27.827434   \n",
       "17  RandomForestRegressor(bootstrap=True, criterio...  33.465663   26.678820   \n",
       "27  RandomForestRegressor(bootstrap=True, criterio...  33.505971   29.692551   \n",
       "11  RandomForestRegressor(bootstrap=True, criterio...  33.562916   25.030681   \n",
       "3   RandomForestRegressor(bootstrap=True, criterio...  33.593191   21.234983   \n",
       "25  RandomForestRegressor(bootstrap=True, criterio...  33.693195   28.285704   \n",
       "9   RandomForestRegressor(bootstrap=True, criterio...  33.693380   23.411538   \n",
       "1   RandomForestRegressor(bootstrap=True, criterio...  34.163764   20.353548   \n",
       "\n",
       "   lag window                                   parameters  \n",
       "16   3      1        {'max_depth': 5, 'n_estimators': 350}  \n",
       "20   3      3        {'max_depth': 5, 'n_estimators': 350}  \n",
       "18   3      2        {'max_depth': 5, 'n_estimators': 350}  \n",
       "22   3      4        {'max_depth': 4, 'n_estimators': 350}  \n",
       "24   4      1        {'max_depth': 5, 'n_estimators': 350}  \n",
       "12   2      3        {'max_depth': 5, 'n_estimators': 350}  \n",
       "4    1      3        {'max_depth': 5, 'n_estimators': 350}  \n",
       "28   4      3        {'max_depth': 5, 'n_estimators': 350}  \n",
       "30   4      4        {'max_depth': 5, 'n_estimators': 350}  \n",
       "6    1      4        {'max_depth': 5, 'n_estimators': 350}  \n",
       "26   4      2        {'max_depth': 5, 'n_estimators': 350}  \n",
       "2    1      2        {'max_depth': 5, 'n_estimators': 350}  \n",
       "14   2      4        {'max_depth': 4, 'n_estimators': 350}  \n",
       "10   2      2        {'max_depth': 5, 'n_estimators': 350}  \n",
       "8    2      1        {'max_depth': 5, 'n_estimators': 350}  \n",
       "0    1      1        {'max_depth': 5, 'n_estimators': 350}  \n",
       "13   2      3        {'max_depth': 5, 'n_estimators': 100}  \n",
       "39   2      4  {'fit_intercept': False, 'normalize': True}  \n",
       "5    1      3        {'max_depth': 5, 'n_estimators': 100}  \n",
       "15   2      4        {'max_depth': 5, 'n_estimators': 150}  \n",
       "38   2      3  {'fit_intercept': False, 'normalize': True}  \n",
       "40   3      1  {'fit_intercept': False, 'normalize': True}  \n",
       "41   3      2  {'fit_intercept': False, 'normalize': True}  \n",
       "42   3      3  {'fit_intercept': False, 'normalize': True}  \n",
       "7    1      4        {'max_depth': 5, 'n_estimators': 300}  \n",
       "21   3      3        {'max_depth': 5, 'n_estimators': 200}  \n",
       "23   3      4        {'max_depth': 5, 'n_estimators': 150}  \n",
       "32   1      1  {'fit_intercept': False, 'normalize': True}  \n",
       "35   1      4  {'fit_intercept': False, 'normalize': True}  \n",
       "31   4      4        {'max_depth': 5, 'n_estimators': 100}  \n",
       "36   2      1   {'fit_intercept': True, 'normalize': True}  \n",
       "37   2      2  {'fit_intercept': False, 'normalize': True}  \n",
       "33   1      2  {'fit_intercept': False, 'normalize': True}  \n",
       "29   4      3        {'max_depth': 5, 'n_estimators': 100}  \n",
       "45   4      2  {'fit_intercept': False, 'normalize': True}  \n",
       "44   4      1  {'fit_intercept': False, 'normalize': True}  \n",
       "46   4      3  {'fit_intercept': False, 'normalize': True}  \n",
       "47   4      4  {'fit_intercept': False, 'normalize': True}  \n",
       "43   3      4  {'fit_intercept': False, 'normalize': True}  \n",
       "34   1      3  {'fit_intercept': False, 'normalize': True}  \n",
       "19   3      2        {'max_depth': 5, 'n_estimators': 250}  \n",
       "17   3      1        {'max_depth': 5, 'n_estimators': 300}  \n",
       "27   4      2        {'max_depth': 5, 'n_estimators': 300}  \n",
       "11   2      2        {'max_depth': 5, 'n_estimators': 350}  \n",
       "3    1      2        {'max_depth': 5, 'n_estimators': 200}  \n",
       "25   4      1        {'max_depth': 5, 'n_estimators': 200}  \n",
       "9    2      1        {'max_depth': 5, 'n_estimators': 250}  \n",
       "1    1      1        {'max_depth': 5, 'n_estimators': 150}  "
      ]
     },
     "metadata": {},
     "output_type": "display_data"
    }
   ],
   "source": [
    "results = results.sort_values(by=['rmse','time'])\n",
    "display(results)"
   ]
  },
  {
   "cell_type": "markdown",
   "metadata": {},
   "source": [
    "Наилучшее значение RMSE показал CatBoostRegressor, c размером лага 3 и окном для плавающего среднего = 1."
   ]
  },
  {
   "cell_type": "markdown",
   "metadata": {},
   "source": [
    "# Тестирование"
   ]
  },
  {
   "cell_type": "code",
   "execution_count": 15,
   "metadata": {},
   "outputs": [
    {
     "name": "stdout",
     "output_type": "stream",
     "text": [
      "RMSE для тестовой выборки,  47.644739205855366\n"
     ]
    }
   ],
   "source": [
    "df = make_features(data, results.iloc[0]['lag'], results.iloc[0]['window'])\n",
    "features_train, features_test, target_train, target_test = split_data(df)\n",
    "model = CatBoostRegressor(logging_level='Silent', max_depth=results.iloc[0]['parameters']['max_depth'], n_estimators=results.iloc[0]['parameters']['n_estimators'])\n",
    "\n",
    "model.fit(features_train, target_train)\n",
    "predict_test = model.predict(features_test)\n",
    "mse = mean_squared_error(target_test, predict_test)\n",
    "rmse = mse ** 0.5\n",
    "print('RMSE для тестовой выборки, ', rmse)\n"
   ]
  },
  {
   "cell_type": "code",
   "execution_count": 16,
   "metadata": {},
   "outputs": [
    {
     "data": {
      "text/html": [
       "<div>\n",
       "<style scoped>\n",
       "    .dataframe tbody tr th:only-of-type {\n",
       "        vertical-align: middle;\n",
       "    }\n",
       "\n",
       "    .dataframe tbody tr th {\n",
       "        vertical-align: top;\n",
       "    }\n",
       "\n",
       "    .dataframe thead th {\n",
       "        text-align: right;\n",
       "    }\n",
       "</style>\n",
       "<table border=\"1\" class=\"dataframe\">\n",
       "  <thead>\n",
       "    <tr style=\"text-align: right;\">\n",
       "      <th></th>\n",
       "      <th>target_test</th>\n",
       "      <th>predict_test</th>\n",
       "    </tr>\n",
       "    <tr>\n",
       "      <th>datetime</th>\n",
       "      <th></th>\n",
       "      <th></th>\n",
       "    </tr>\n",
       "  </thead>\n",
       "  <tbody>\n",
       "    <tr>\n",
       "      <td>2018-08-13 14:00:00</td>\n",
       "      <td>102</td>\n",
       "      <td>104.277742</td>\n",
       "    </tr>\n",
       "    <tr>\n",
       "      <td>2018-08-13 15:00:00</td>\n",
       "      <td>175</td>\n",
       "      <td>113.691232</td>\n",
       "    </tr>\n",
       "    <tr>\n",
       "      <td>2018-08-13 16:00:00</td>\n",
       "      <td>144</td>\n",
       "      <td>133.550112</td>\n",
       "    </tr>\n",
       "    <tr>\n",
       "      <td>2018-08-13 17:00:00</td>\n",
       "      <td>152</td>\n",
       "      <td>104.904111</td>\n",
       "    </tr>\n",
       "    <tr>\n",
       "      <td>2018-08-13 18:00:00</td>\n",
       "      <td>104</td>\n",
       "      <td>102.077792</td>\n",
       "    </tr>\n",
       "    <tr>\n",
       "      <td>...</td>\n",
       "      <td>...</td>\n",
       "      <td>...</td>\n",
       "    </tr>\n",
       "    <tr>\n",
       "      <td>2018-08-31 19:00:00</td>\n",
       "      <td>136</td>\n",
       "      <td>109.401742</td>\n",
       "    </tr>\n",
       "    <tr>\n",
       "      <td>2018-08-31 20:00:00</td>\n",
       "      <td>154</td>\n",
       "      <td>108.255630</td>\n",
       "    </tr>\n",
       "    <tr>\n",
       "      <td>2018-08-31 21:00:00</td>\n",
       "      <td>159</td>\n",
       "      <td>130.287670</td>\n",
       "    </tr>\n",
       "    <tr>\n",
       "      <td>2018-08-31 22:00:00</td>\n",
       "      <td>223</td>\n",
       "      <td>127.059886</td>\n",
       "    </tr>\n",
       "    <tr>\n",
       "      <td>2018-08-31 23:00:00</td>\n",
       "      <td>205</td>\n",
       "      <td>133.566306</td>\n",
       "    </tr>\n",
       "  </tbody>\n",
       "</table>\n",
       "<p>442 rows × 2 columns</p>\n",
       "</div>"
      ],
      "text/plain": [
       "                     target_test  predict_test\n",
       "datetime                                      \n",
       "2018-08-13 14:00:00          102    104.277742\n",
       "2018-08-13 15:00:00          175    113.691232\n",
       "2018-08-13 16:00:00          144    133.550112\n",
       "2018-08-13 17:00:00          152    104.904111\n",
       "2018-08-13 18:00:00          104    102.077792\n",
       "...                          ...           ...\n",
       "2018-08-31 19:00:00          136    109.401742\n",
       "2018-08-31 20:00:00          154    108.255630\n",
       "2018-08-31 21:00:00          159    130.287670\n",
       "2018-08-31 22:00:00          223    127.059886\n",
       "2018-08-31 23:00:00          205    133.566306\n",
       "\n",
       "[442 rows x 2 columns]"
      ]
     },
     "metadata": {},
     "output_type": "display_data"
    }
   ],
   "source": [
    "result = pd.DataFrame(columns = ['target_test','predict_test'])\n",
    "result['target_test'] = target_test\n",
    "result['predict_test'] = predict_test\n",
    "display(result)"
   ]
  },
  {
   "cell_type": "code",
   "execution_count": 17,
   "metadata": {},
   "outputs": [
    {
     "data": {
      "text/plain": [
       "<matplotlib.axes._subplots.AxesSubplot at 0x7f27c6817990>"
      ]
     },
     "execution_count": 17,
     "metadata": {},
     "output_type": "execute_result"
    },
    {
     "data": {
      "image/png": "[encoded data removed]",
      "text/plain": [
       "<Figure size 432x288 with 1 Axes>"
      ]
     },
     "metadata": {
      "needs_background": "light"
     },
     "output_type": "display_data"
    }
   ],
   "source": [
    "result.plot(title='Предсказание модели с оптимизированными гиперпараметрами на тестовой выборке')"
   ]
  },
  {
   "cell_type": "code",
   "execution_count": 18,
   "metadata": {},
   "outputs": [
    {
     "name": "stdout",
     "output_type": "stream",
     "text": [
      "RMSE для тестовой выборки Dummy,  58.856486242815066\n"
     ]
    }
   ],
   "source": [
    "predict_test = target_test.shift(fill_value=target_train[-1])\n",
    "mse = mean_squared_error(target_test, predict_test)\n",
    "rmse = mse ** 0.5\n",
    "print('RMSE для тестовой выборки Dummy, ', rmse)"
   ]
  },
  {
   "cell_type": "code",
   "execution_count": 19,
   "metadata": {},
   "outputs": [
    {
     "data": {
      "text/html": [
       "<div>\n",
       "<style scoped>\n",
       "    .dataframe tbody tr th:only-of-type {\n",
       "        vertical-align: middle;\n",
       "    }\n",
       "\n",
       "    .dataframe tbody tr th {\n",
       "        vertical-align: top;\n",
       "    }\n",
       "\n",
       "    .dataframe thead th {\n",
       "        text-align: right;\n",
       "    }\n",
       "</style>\n",
       "<table border=\"1\" class=\"dataframe\">\n",
       "  <thead>\n",
       "    <tr style=\"text-align: right;\">\n",
       "      <th></th>\n",
       "      <th>target_test</th>\n",
       "      <th>predict_test</th>\n",
       "    </tr>\n",
       "    <tr>\n",
       "      <th>datetime</th>\n",
       "      <th></th>\n",
       "      <th></th>\n",
       "    </tr>\n",
       "  </thead>\n",
       "  <tbody>\n",
       "    <tr>\n",
       "      <td>2018-08-13 14:00:00</td>\n",
       "      <td>102</td>\n",
       "      <td>119</td>\n",
       "    </tr>\n",
       "    <tr>\n",
       "      <td>2018-08-13 15:00:00</td>\n",
       "      <td>175</td>\n",
       "      <td>102</td>\n",
       "    </tr>\n",
       "    <tr>\n",
       "      <td>2018-08-13 16:00:00</td>\n",
       "      <td>144</td>\n",
       "      <td>175</td>\n",
       "    </tr>\n",
       "    <tr>\n",
       "      <td>2018-08-13 17:00:00</td>\n",
       "      <td>152</td>\n",
       "      <td>144</td>\n",
       "    </tr>\n",
       "    <tr>\n",
       "      <td>2018-08-13 18:00:00</td>\n",
       "      <td>104</td>\n",
       "      <td>152</td>\n",
       "    </tr>\n",
       "    <tr>\n",
       "      <td>...</td>\n",
       "      <td>...</td>\n",
       "      <td>...</td>\n",
       "    </tr>\n",
       "    <tr>\n",
       "      <td>2018-08-31 19:00:00</td>\n",
       "      <td>136</td>\n",
       "      <td>207</td>\n",
       "    </tr>\n",
       "    <tr>\n",
       "      <td>2018-08-31 20:00:00</td>\n",
       "      <td>154</td>\n",
       "      <td>136</td>\n",
       "    </tr>\n",
       "    <tr>\n",
       "      <td>2018-08-31 21:00:00</td>\n",
       "      <td>159</td>\n",
       "      <td>154</td>\n",
       "    </tr>\n",
       "    <tr>\n",
       "      <td>2018-08-31 22:00:00</td>\n",
       "      <td>223</td>\n",
       "      <td>159</td>\n",
       "    </tr>\n",
       "    <tr>\n",
       "      <td>2018-08-31 23:00:00</td>\n",
       "      <td>205</td>\n",
       "      <td>223</td>\n",
       "    </tr>\n",
       "  </tbody>\n",
       "</table>\n",
       "<p>442 rows × 2 columns</p>\n",
       "</div>"
      ],
      "text/plain": [
       "                     target_test  predict_test\n",
       "datetime                                      \n",
       "2018-08-13 14:00:00          102           119\n",
       "2018-08-13 15:00:00          175           102\n",
       "2018-08-13 16:00:00          144           175\n",
       "2018-08-13 17:00:00          152           144\n",
       "2018-08-13 18:00:00          104           152\n",
       "...                          ...           ...\n",
       "2018-08-31 19:00:00          136           207\n",
       "2018-08-31 20:00:00          154           136\n",
       "2018-08-31 21:00:00          159           154\n",
       "2018-08-31 22:00:00          223           159\n",
       "2018-08-31 23:00:00          205           223\n",
       "\n",
       "[442 rows x 2 columns]"
      ]
     },
     "metadata": {},
     "output_type": "display_data"
    }
   ],
   "source": [
    "result = pd.DataFrame(columns = ['target_test','predict_test'])\n",
    "result['target_test'] = target_test\n",
    "result['predict_test'] = predict_test\n",
    "display(result)"
   ]
  },
  {
   "cell_type": "code",
   "execution_count": 20,
   "metadata": {},
   "outputs": [
    {
     "data": {
      "text/plain": [
       "<matplotlib.axes._subplots.AxesSubplot at 0x7f27c6febb90>"
      ]
     },
     "execution_count": 20,
     "metadata": {},
     "output_type": "execute_result"
    },
    {
     "data": {
      "image/png": "[encoded data removed]",
      "text/plain": [
       "<Figure size 432x288 with 1 Axes>"
      ]
     },
     "metadata": {
      "needs_background": "light"
     },
     "output_type": "display_data"
    }
   ],
   "source": [
    "result.plot(title='Предсказание простой модели на тестовой выборке')"
   ]
  },
  {
   "cell_type": "markdown",
   "metadata": {},
   "source": [
    "# Общий вывод"
   ]
  },
  {
   "cell_type": "markdown",
   "metadata": {},
   "source": [
    "Данные о количестве вызовов такси были подготовлены, проанализированы. Общий тренд для данных - количество заказов растет. Наблюдается сезонность: ночью заказов меньше с минимумом около 6 утра и максимумом около полуночи. \n",
    "\n",
    "Для обучения были выбраны CatBoostRegressor и RandomForestRegressor. Лучшее качество предсказания показала CatBoost. На тестовой выборке значение RMSE меньше 48 и меньше простой модели, предсказывающей среднее значение."
   ]
  }
 ],
 "metadata": {
  "kernelspec": {
   "display_name": "Python 3",
   "language": "python",
   "name": "python3"
  },
  "language_info": {
   "codemirror_mode": {
    "name": "ipython",
    "version": 3
   },
   "file_extension": ".py",
   "mimetype": "text/x-python",
   "name": "python",
   "nbconvert_exporter": "python",
   "pygments_lexer": "ipython3",
   "version": "3.7.10"
  },
  "toc": {
   "base_numbering": 1,
   "nav_menu": {
    "height": "122px",
    "width": "205px"
   },
   "number_sections": true,
   "sideBar": true,
   "skip_h1_title": false,
   "title_cell": "Table of Contents",
   "title_sidebar": "Contents",
   "toc_cell": false,
   "toc_position": {},
   "toc_section_display": true,
   "toc_window_display": false
  }
 },
 "nbformat": 4,
 "nbformat_minor": 4
}
